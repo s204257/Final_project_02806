{
 "cells": [
  {
   "cell_type": "code",
   "execution_count": 1,
   "id": "b7f06e78",
   "metadata": {},
   "outputs": [
    {
     "name": "stderr",
     "output_type": "stream",
     "text": [
      "c:\\Users\\miran\\anaconda3\\Lib\\site-packages\\pandas\\core\\arrays\\masked.py:60: UserWarning: Pandas requires version '1.3.6' or newer of 'bottleneck' (version '1.3.5' currently installed).\n",
      "  from pandas.core import (\n"
     ]
    }
   ],
   "source": [
    "import numpy as np \n",
    "import pandas as pd"
   ]
  },
  {
   "cell_type": "code",
   "execution_count": 8,
   "id": "8fd64a60",
   "metadata": {},
   "outputs": [
    {
     "name": "stderr",
     "output_type": "stream",
     "text": [
      "C:\\Users\\miran\\AppData\\Local\\Temp\\ipykernel_16640\\2499685931.py:4: DtypeWarning: Columns (3,9) have mixed types. Specify dtype option on import or set low_memory=False.\n",
      "  df = pd.read_csv(filename)\n"
     ]
    },
    {
     "name": "stdout",
     "output_type": "stream",
     "text": [
      "   CRASH DATE CRASH TIME    BOROUGH ZIP CODE   LATITUDE  LONGITUDE  \\\n",
      "0  12/14/2021      14:58  MANHATTAN  10017.0  40.751440 -73.973970   \n",
      "1  12/14/2021      16:50     QUEENS  11413.0  40.675884 -73.755770   \n",
      "2  12/14/2021      23:10     QUEENS  11434.0  40.666840 -73.789410   \n",
      "3  12/14/2021      17:15   BROOKLYN  11211.0  40.710957 -73.951126   \n",
      "4  09/22/2022      16:16     QUEENS  11418.0  40.698257 -73.826320   \n",
      "\n",
      "                  LOCATION         ON STREET NAME CROSS STREET NAME  \\\n",
      "0    (40.75144, -73.97397)               3 AVENUE    EAST 43 STREET   \n",
      "1   (40.675884, -73.75577)  SPRINGFIELD BOULEVARD   EAST GATE PLAZA   \n",
      "2    (40.66684, -73.78941)   NORTH CONDUIT AVENUE        150 STREET   \n",
      "3  (40.710957, -73.951126)           GRAND STREET      UNION AVENUE   \n",
      "4   (40.698257, -73.82632)             123 STREET         89 AVENUE   \n",
      "\n",
      "  OFF STREET NAME  ...  CONTRIBUTING FACTOR VEHICLE 2  \\\n",
      "0             NaN  ...                    Unspecified   \n",
      "1             NaN  ...                    Unspecified   \n",
      "2             NaN  ...                    Unspecified   \n",
      "3             NaN  ...                    Unspecified   \n",
      "4             NaN  ...                    Unspecified   \n",
      "\n",
      "   CONTRIBUTING FACTOR VEHICLE 3  CONTRIBUTING FACTOR VEHICLE 4  \\\n",
      "0                            NaN                            NaN   \n",
      "1                            NaN                            NaN   \n",
      "2                            NaN                            NaN   \n",
      "3                            NaN                            NaN   \n",
      "4                            NaN                            NaN   \n",
      "\n",
      "   CONTRIBUTING FACTOR VEHICLE 5  COLLISION_ID  VEHICLE TYPE CODE 1  \\\n",
      "0                            NaN       4486519                Sedan   \n",
      "1                            NaN       4487127                Sedan   \n",
      "2                            NaN       4486635                Sedan   \n",
      "3                            NaN       4486556                  Bus   \n",
      "4                            NaN       4566408                Sedan   \n",
      "\n",
      "                   VEHICLE TYPE CODE 2  VEHICLE TYPE CODE 3  \\\n",
      "0  Station Wagon/Sport Utility Vehicle                  NaN   \n",
      "1  Station Wagon/Sport Utility Vehicle                  NaN   \n",
      "2                                Sedan                  NaN   \n",
      "3  Station Wagon/Sport Utility Vehicle                  NaN   \n",
      "4                            E-Scooter                  NaN   \n",
      "\n",
      "  VEHICLE TYPE CODE 4 VEHICLE TYPE CODE 5  \n",
      "0                 NaN                 NaN  \n",
      "1                 NaN                 NaN  \n",
      "2                 NaN                 NaN  \n",
      "3                 NaN                 NaN  \n",
      "4                 NaN                 NaN  \n",
      "\n",
      "[5 rows x 29 columns]\n"
     ]
    }
   ],
   "source": [
    "#Import data\n",
    "filename = 'Motor_Vehicle_Collisions_-_Crashes_20250415.csv'\n",
    "\n",
    "df = pd.read_csv(filename)\n",
    "\n",
    "#Print the header\n",
    "print(df.head())"
   ]
  },
  {
   "cell_type": "code",
   "execution_count": 9,
   "id": "ffa202c0",
   "metadata": {},
   "outputs": [
    {
     "name": "stdout",
     "output_type": "stream",
     "text": [
      "  CRASH DATE CRASH TIME    BOROUGH ZIP CODE   LATITUDE  LONGITUDE  \\\n",
      "0 2021-12-14      14:58  MANHATTAN  10017.0  40.751440 -73.973970   \n",
      "1 2021-12-14      16:50     QUEENS  11413.0  40.675884 -73.755770   \n",
      "2 2021-12-14      23:10     QUEENS  11434.0  40.666840 -73.789410   \n",
      "3 2021-12-14      17:15   BROOKLYN  11211.0  40.710957 -73.951126   \n",
      "4 2022-09-22      16:16     QUEENS  11418.0  40.698257 -73.826320   \n",
      "\n",
      "                  LOCATION         ON STREET NAME CROSS STREET NAME  \\\n",
      "0    (40.75144, -73.97397)               3 AVENUE    EAST 43 STREET   \n",
      "1   (40.675884, -73.75577)  SPRINGFIELD BOULEVARD   EAST GATE PLAZA   \n",
      "2    (40.66684, -73.78941)   NORTH CONDUIT AVENUE        150 STREET   \n",
      "3  (40.710957, -73.951126)           GRAND STREET      UNION AVENUE   \n",
      "4   (40.698257, -73.82632)             123 STREET         89 AVENUE   \n",
      "\n",
      "  OFF STREET NAME  ...  CONTRIBUTING FACTOR VEHICLE 3  \\\n",
      "0             NaN  ...                            NaN   \n",
      "1             NaN  ...                            NaN   \n",
      "2             NaN  ...                            NaN   \n",
      "3             NaN  ...                            NaN   \n",
      "4             NaN  ...                            NaN   \n",
      "\n",
      "   CONTRIBUTING FACTOR VEHICLE 4  CONTRIBUTING FACTOR VEHICLE 5  COLLISION_ID  \\\n",
      "0                            NaN                            NaN       4486519   \n",
      "1                            NaN                            NaN       4487127   \n",
      "2                            NaN                            NaN       4486635   \n",
      "3                            NaN                            NaN       4486556   \n",
      "4                            NaN                            NaN       4566408   \n",
      "\n",
      "   VEHICLE TYPE CODE 1                  VEHICLE TYPE CODE 2  \\\n",
      "0                Sedan  Station Wagon/Sport Utility Vehicle   \n",
      "1                Sedan  Station Wagon/Sport Utility Vehicle   \n",
      "2                Sedan                                Sedan   \n",
      "3                  Bus  Station Wagon/Sport Utility Vehicle   \n",
      "4                Sedan                            E-Scooter   \n",
      "\n",
      "   VEHICLE TYPE CODE 3  VEHICLE TYPE CODE 4 VEHICLE TYPE CODE 5  Year  \n",
      "0                  NaN                  NaN                 NaN  2021  \n",
      "1                  NaN                  NaN                 NaN  2021  \n",
      "2                  NaN                  NaN                 NaN  2021  \n",
      "3                  NaN                  NaN                 NaN  2021  \n",
      "4                  NaN                  NaN                 NaN  2022  \n",
      "\n",
      "[5 rows x 30 columns]\n"
     ]
    }
   ],
   "source": [
    "#split up the date into year, month, day\n",
    "df['CRASH DATE'] = pd.to_datetime(df['CRASH DATE'], format='%m/%d/%Y')\n",
    "df['Year'] = df['CRASH DATE'].dt.year\n",
    "\n",
    "print(df.head())"
   ]
  },
  {
   "cell_type": "code",
   "execution_count": 10,
   "id": "c408584d",
   "metadata": {},
   "outputs": [
    {
     "name": "stdout",
     "output_type": "stream",
     "text": [
      "  CRASH DATE CRASH TIME    BOROUGH ZIP CODE   LATITUDE  LONGITUDE  \\\n",
      "0 2021-12-14      14:58  MANHATTAN  10017.0  40.751440 -73.973970   \n",
      "1 2021-12-14      16:50     QUEENS  11413.0  40.675884 -73.755770   \n",
      "2 2021-12-14      23:10     QUEENS  11434.0  40.666840 -73.789410   \n",
      "3 2021-12-14      17:15   BROOKLYN  11211.0  40.710957 -73.951126   \n",
      "4 2022-09-22      16:16     QUEENS  11418.0  40.698257 -73.826320   \n",
      "\n",
      "                  LOCATION         ON STREET NAME CROSS STREET NAME  \\\n",
      "0    (40.75144, -73.97397)               3 AVENUE    EAST 43 STREET   \n",
      "1   (40.675884, -73.75577)  SPRINGFIELD BOULEVARD   EAST GATE PLAZA   \n",
      "2    (40.66684, -73.78941)   NORTH CONDUIT AVENUE        150 STREET   \n",
      "3  (40.710957, -73.951126)           GRAND STREET      UNION AVENUE   \n",
      "4   (40.698257, -73.82632)             123 STREET         89 AVENUE   \n",
      "\n",
      "  OFF STREET NAME  ...  CONTRIBUTING FACTOR VEHICLE 3  \\\n",
      "0             NaN  ...                            NaN   \n",
      "1             NaN  ...                            NaN   \n",
      "2             NaN  ...                            NaN   \n",
      "3             NaN  ...                            NaN   \n",
      "4             NaN  ...                            NaN   \n",
      "\n",
      "   CONTRIBUTING FACTOR VEHICLE 4  CONTRIBUTING FACTOR VEHICLE 5  COLLISION_ID  \\\n",
      "0                            NaN                            NaN       4486519   \n",
      "1                            NaN                            NaN       4487127   \n",
      "2                            NaN                            NaN       4486635   \n",
      "3                            NaN                            NaN       4486556   \n",
      "4                            NaN                            NaN       4566408   \n",
      "\n",
      "   VEHICLE TYPE CODE 1                  VEHICLE TYPE CODE 2  \\\n",
      "0                Sedan  Station Wagon/Sport Utility Vehicle   \n",
      "1                Sedan  Station Wagon/Sport Utility Vehicle   \n",
      "2                Sedan                                Sedan   \n",
      "3                  Bus  Station Wagon/Sport Utility Vehicle   \n",
      "4                Sedan                            E-Scooter   \n",
      "\n",
      "   VEHICLE TYPE CODE 3  VEHICLE TYPE CODE 4 VEHICLE TYPE CODE 5  Year  \n",
      "0                  NaN                  NaN                 NaN  2021  \n",
      "1                  NaN                  NaN                 NaN  2021  \n",
      "2                  NaN                  NaN                 NaN  2021  \n",
      "3                  NaN                  NaN                 NaN  2021  \n",
      "4                  NaN                  NaN                 NaN  2022  \n",
      "\n",
      "[5 rows x 30 columns]\n"
     ]
    }
   ],
   "source": [
    "# Remove years 2012 and 2025\n",
    "df = df[(df['Year'] != 2012) & (df['Year'] != 2025)]\n",
    "\n",
    "print(df.head())"
   ]
  },
  {
   "cell_type": "code",
   "execution_count": 11,
   "id": "fa539d05",
   "metadata": {},
   "outputs": [],
   "source": [
    "# Save the merged DataFrame to a CSV file\n",
    "df.to_csv(\"sorted_data.csv\", index=False)"
   ]
  }
 ],
 "metadata": {
  "kernelspec": {
   "display_name": "base",
   "language": "python",
   "name": "python3"
  },
  "language_info": {
   "codemirror_mode": {
    "name": "ipython",
    "version": 3
   },
   "file_extension": ".py",
   "mimetype": "text/x-python",
   "name": "python",
   "nbconvert_exporter": "python",
   "pygments_lexer": "ipython3",
   "version": "3.11.4"
  }
 },
 "nbformat": 4,
 "nbformat_minor": 5
}
